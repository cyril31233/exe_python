{
 "cells": [
  {
   "cell_type": "code",
   "execution_count": 8,
   "metadata": {},
   "outputs": [
    {
     "name": "stdout",
     "output_type": "stream",
     "text": [
      "42\n"
     ]
    }
   ],
   "source": [
    "def answer():\n",
    "    print(42)\n",
    "\n",
    "def run_something(func):\n",
    "    func()\n",
    "\n",
    "run_something(answer)"
   ]
  },
  {
   "cell_type": "code",
   "execution_count": 3,
   "metadata": {},
   "outputs": [
    {
     "name": "stdout",
     "output_type": "stream",
     "text": [
      "13\n",
      "6\n"
     ]
    }
   ],
   "source": [
    "def add_args(arg1,arg2):\n",
    "    print(arg1+arg2)\n",
    "    \n",
    "def run_someting_with_args(func,arg1,arg2):\n",
    "    func(arg1,arg2)\n",
    "    \n",
    "run_someting_with_args(add_args,3,10)\n",
    "add_args(3,3)"
   ]
  },
  {
   "cell_type": "code",
   "execution_count": 7,
   "metadata": {},
   "outputs": [
    {
     "name": "stdout",
     "output_type": "stream",
     "text": [
      "10\n"
     ]
    },
    {
     "data": {
      "text/plain": [
       "15"
      ]
     },
     "execution_count": 7,
     "metadata": {},
     "output_type": "execute_result"
    }
   ],
   "source": [
    "def sum_args(*args):\n",
    "    return sum(args)\n",
    "\n",
    "print(sum_args(1,2,3,4))\n",
    "\n",
    "def run_with_positional_args(func,*args):\n",
    "    return func(*args)\n",
    "\n",
    "run_with_positional_args(sum_args,1,2,3,4,5)"
   ]
  },
  {
   "cell_type": "code",
   "execution_count": 10,
   "metadata": {},
   "outputs": [
    {
     "data": {
      "text/plain": [
       "33"
      ]
     },
     "execution_count": 10,
     "metadata": {},
     "output_type": "execute_result"
    }
   ],
   "source": [
    "#內部函式\n",
    "def outer(a,b):\n",
    "    def inner(c,d):\n",
    "        return c+d\n",
    "    return inner(a,b)\n",
    "\n",
    "outer(11,22)"
   ]
  },
  {
   "cell_type": "code",
   "execution_count": 1,
   "metadata": {},
   "outputs": [
    {
     "name": "stdout",
     "output_type": "stream",
     "text": [
      "I am a pig : you\n",
      "I am a pig : me\n",
      "I am a pig : Pig\n"
     ]
    }
   ],
   "source": [
    "#Closure 被動態建立出來，會記得自己來自哪裡的函式\n",
    "def knights(saying):\n",
    "    def inner():\n",
    "        return 'I am a pig : %s' % saying   #inner 是一個 Closure\n",
    "    return inner\n",
    "\n",
    "a=knights('you')      #a b c 皆為函式，也是Closure\n",
    "b=knights('me')\n",
    "c=knights('Pig')\n",
    "\n",
    "print(a())  \n",
    "print(b())\n",
    "print(c())\n"
   ]
  },
  {
   "cell_type": "code",
   "execution_count": 2,
   "metadata": {},
   "outputs": [
    {
     "name": "stdout",
     "output_type": "stream",
     "text": [
      "Aa!\n",
      "Bb!\n",
      "Cc!\n",
      "Dd!\n",
      "Aa!!!\n",
      "Bb!!!\n",
      "Cc!!!\n",
      "Dd!!!\n"
     ]
    }
   ],
   "source": [
    "def edit_story(words,func):\n",
    "    for word in words:\n",
    "        print(func(word))\n",
    "\n",
    "stairs=['aa','bb','cc','dd']\n",
    "\n",
    "#一般函式 -可被lambda取代\n",
    "def enliven(word):\n",
    "    return word.capitalize()+ '!'\n",
    "edit_story(stairs,enliven)\n",
    "\n",
    "#匿名函式 lambda()       \n",
    "stairs=['aa','bb','cc','dd']\n",
    "edit_story(stairs,lambda word:word.capitalize()+'!!!')       # lambda 後面為 匿名函式   一行就可以生成\n"
   ]
  },
  {
   "cell_type": "code",
   "execution_count": 34,
   "metadata": {},
   "outputs": [
    {
     "name": "stdout",
     "output_type": "stream",
     "text": [
      "1\n",
      "3\n",
      "5\n",
      "7\n",
      "9\n"
     ]
    }
   ],
   "source": [
    "#產生器\n",
    "def my_range(first=0,last=10,step=1):\n",
    "    number=first\n",
    "    while number<last:\n",
    "        yield number\n",
    "        number+=step\n",
    "\n",
    "range1=my_range(1,11,2)\n",
    "\n",
    "for x in range1:\n",
    "    print(x)"
   ]
  }
 ],
 "metadata": {
  "kernelspec": {
   "display_name": "Python 3",
   "language": "python",
   "name": "python3"
  },
  "language_info": {
   "codemirror_mode": {
    "name": "ipython",
    "version": 3
   },
   "file_extension": ".py",
   "mimetype": "text/x-python",
   "name": "python",
   "nbconvert_exporter": "python",
   "pygments_lexer": "ipython3",
   "version": "3.6.1"
  }
 },
 "nbformat": 4,
 "nbformat_minor": 2
}
